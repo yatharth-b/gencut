{
 "cells": [
  {
   "cell_type": "code",
   "execution_count": 7,
   "metadata": {},
   "outputs": [
    {
     "name": "stdout",
     "output_type": "stream",
     "text": [
      "{'video_found': True, 'audio_found': True, 'metadata': {'major_brand': 'mp42', 'minor_version': '0', 'compatible_brands': 'mp42isom'}, 'inputs': [{'streams': [{'input_number': 0, 'stream_number': 0, 'stream_type': 'video', 'language': None, 'default': True, 'size': [478, 850], 'bitrate': 1785, 'fps': 25.09, 'codec_name': 'h264', 'profile': '(High)', 'metadata': {'Metadata': '', 'vendor_id': '[0][0][0][0]'}}, {'input_number': 0, 'stream_number': 1, 'stream_type': 'audio', 'language': None, 'default': True, 'fps': 48000, 'bitrate': 256, 'metadata': {'Metadata': '', 'vendor_id': '[0][0][0][0]'}}], 'input_number': 0}], 'duration': 11.96, 'bitrate': 2045, 'start': 0.0, 'default_video_input_number': 0, 'default_video_stream_number': 0, 'video_codec_name': 'h264', 'video_profile': '(High)', 'video_size': [478, 850], 'video_bitrate': 1785, 'video_fps': 25.09, 'default_audio_input_number': 0, 'default_audio_stream_number': 1, 'audio_fps': 48000, 'audio_bitrate': 256, 'video_duration': 11.96, 'video_n_frames': 300}\n",
      "/Users/vidushi/anaconda3/envs/gencut/lib/python3.13/site-packages/imageio_ffmpeg/binaries/ffmpeg-macos-aarch64-v7.1 -i ../test.mp4 -loglevel error -f image2pipe -vf scale=478:850 -sws_flags bicubic -pix_fmt rgb24 -vcodec rawvideo -\n",
      "MoviePy - Writing audio in output_audio.wav\n"
     ]
    },
    {
     "name": "stderr",
     "output_type": "stream",
     "text": [
      "                                                        "
     ]
    },
    {
     "name": "stdout",
     "output_type": "stream",
     "text": [
      "MoviePy - Done.\n"
     ]
    },
    {
     "name": "stderr",
     "output_type": "stream",
     "text": [
      "\r"
     ]
    }
   ],
   "source": [
    "from moviepy import VideoFileClip\n",
    "\n",
    "audio = VideoFileClip(\"../test.mp4\").audio\n",
    "\n",
    "audio.write_audiofile(\"output_audio.wav\")"
   ]
  },
  {
   "cell_type": "code",
   "execution_count": 6,
   "metadata": {},
   "outputs": [
    {
     "name": "stdout",
     "output_type": "stream",
     "text": [
      "Collecting SpeechRecognition\n",
      "  Downloading SpeechRecognition-3.14.1-py3-none-any.whl.metadata (31 kB)\n",
      "Requirement already satisfied: typing-extensions in /Users/vidushi/anaconda3/envs/gencut/lib/python3.13/site-packages (from SpeechRecognition) (4.12.2)\n",
      "Collecting standard-aifc (from SpeechRecognition)\n",
      "  Downloading standard_aifc-3.13.0-py3-none-any.whl.metadata (969 bytes)\n",
      "Collecting audioop-lts (from SpeechRecognition)\n",
      "  Downloading audioop_lts-0.2.1-cp313-abi3-macosx_11_0_arm64.whl.metadata (1.6 kB)\n",
      "Collecting standard-chunk (from standard-aifc->SpeechRecognition)\n",
      "  Downloading standard_chunk-3.13.0-py3-none-any.whl.metadata (860 bytes)\n",
      "Downloading SpeechRecognition-3.14.1-py3-none-any.whl (32.9 MB)\n",
      "\u001b[2K   \u001b[90m━━━━━━━━━━━━━━━━━━━━━━━━━━━━━━━━━━━━━━━━\u001b[0m \u001b[32m32.9/32.9 MB\u001b[0m \u001b[31m16.9 MB/s\u001b[0m eta \u001b[36m0:00:00\u001b[0ma \u001b[36m0:00:01\u001b[0m\n",
      "\u001b[?25hDownloading audioop_lts-0.2.1-cp313-abi3-macosx_11_0_arm64.whl (26 kB)\n",
      "Downloading standard_aifc-3.13.0-py3-none-any.whl (10 kB)\n",
      "Downloading standard_chunk-3.13.0-py3-none-any.whl (4.9 kB)\n",
      "Installing collected packages: standard-chunk, audioop-lts, standard-aifc, SpeechRecognition\n",
      "Successfully installed SpeechRecognition-3.14.1 audioop-lts-0.2.1 standard-aifc-3.13.0 standard-chunk-3.13.0\n"
     ]
    }
   ],
   "source": [
    "!pip install SpeechRecognition"
   ]
  },
  {
   "cell_type": "code",
   "execution_count": 7,
   "metadata": {},
   "outputs": [
    {
     "name": "stdout",
     "output_type": "stream",
     "text": [
      "hello yeah I'm going to see and nice to meet you\n"
     ]
    }
   ],
   "source": [
    "import speech_recognition as sr\n",
    "\n",
    "r = sr.Recognizer()\n",
    "with sr.AudioFile(\"output_audio.wav\") as source:\n",
    "    audio_data = r.record(source)\n",
    "try:\n",
    "    text = r.recognize_google(audio_data)\n",
    "    print(text)\n",
    "except sr.UnknownValueError:\n",
    "    print(\"Speech Recognition could not understand audio\")\n",
    "except sr.RequestError as e:\n",
    "    print(f\"Could not request results from Speech Recognition service; {e}\")\n"
   ]
  },
  {
   "cell_type": "code",
   "execution_count": 8,
   "metadata": {},
   "outputs": [],
   "source": [
    "from openai import OpenAI\n",
    "client = OpenAI()\n",
    "\n",
    "audio_file = open(\"../test.mp4\", \"rb\")\n",
    "transcript = client.audio.transcriptions.create(\n",
    "  file=audio_file,\n",
    "  model=\"whisper-1\",\n",
    "  response_format=\"verbose_json\",\n",
    "  timestamp_granularities=[\"word\"]\n",
    ")\n"
   ]
  },
  {
   "cell_type": "code",
   "execution_count": 9,
   "metadata": {},
   "outputs": [
    {
     "data": {
      "text/plain": [
       "TranscriptionVerbose(duration=11.920000076293945, language='english', text=\"hello yeah I'm Vidushi and nice to meet you\", segments=None, words=[TranscriptionWord(end=1.0399999618530273, start=0.0, word='hello'), TranscriptionWord(end=4.139999866485596, start=1.0399999618530273, word='yeah'), TranscriptionWord(end=4.739999771118164, start=4.139999866485596, word=\"I'm\"), TranscriptionWord(end=5.300000190734863, start=4.739999771118164, word='Vidushi'), TranscriptionWord(end=9.739999771118164, start=5.300000190734863, word='and'), TranscriptionWord(end=10.979999542236328, start=9.739999771118164, word='nice'), TranscriptionWord(end=11.359999656677246, start=10.979999542236328, word='to'), TranscriptionWord(end=11.359999656677246, start=11.359999656677246, word='meet'), TranscriptionWord(end=11.579999923706055, start=11.359999656677246, word='you')], task='transcribe')"
      ]
     },
     "execution_count": 9,
     "metadata": {},
     "output_type": "execute_result"
    }
   ],
   "source": [
    "transcript"
   ]
  },
  {
   "cell_type": "code",
   "execution_count": 18,
   "metadata": {},
   "outputs": [],
   "source": [
    "import math\n",
    "\n",
    "sec_transcription = [[] for _ in range(math.ceil(transcript.duration))]\n",
    "\n",
    "for word in transcript.words:\n",
    "    for sec in range(int(word.start), math.ceil(word.end)):\n",
    "        sec_transcription[sec].append(word.word)\n",
    "\n",
    "for sec in range(len(sec_transcription)):\n",
    "    sec_transcription[sec] = ' '.join(sec_transcription[sec])"
   ]
  },
  {
   "cell_type": "code",
   "execution_count": 33,
   "metadata": {},
   "outputs": [
    {
     "data": {
      "text/plain": [
       "TranscriptionVerbose(duration=11.920000076293945, language='english', text=\"hello yeah I'm Vidushi and nice to meet you\", segments=None, words=[TranscriptionWord(end=1.0399999618530273, start=0.0, word='hello'), TranscriptionWord(end=4.139999866485596, start=1.0399999618530273, word='yeah'), TranscriptionWord(end=4.739999771118164, start=4.139999866485596, word=\"I'm\"), TranscriptionWord(end=5.300000190734863, start=4.739999771118164, word='Vidushi'), TranscriptionWord(end=9.739999771118164, start=5.300000190734863, word='and'), TranscriptionWord(end=10.979999542236328, start=9.739999771118164, word='nice'), TranscriptionWord(end=11.359999656677246, start=10.979999542236328, word='to'), TranscriptionWord(end=11.359999656677246, start=11.359999656677246, word='meet'), TranscriptionWord(end=11.579999923706055, start=11.359999656677246, word='you')], task='transcribe')"
      ]
     },
     "execution_count": 33,
     "metadata": {},
     "output_type": "execute_result"
    }
   ],
   "source": [
    "transcript"
   ]
  },
  {
   "cell_type": "code",
   "execution_count": 34,
   "metadata": {},
   "outputs": [
    {
     "data": {
      "text/plain": [
       "TranscriptionVerbose(duration=11.920000076293945, language='english', text=\"hello yeah I'm Vidushi and nice to meet you\", segments=None, words=[TranscriptionWord(end=1.0399999618530273, start=0.0, word='hello'), TranscriptionWord(end=4.139999866485596, start=1.0399999618530273, word='yeah'), TranscriptionWord(end=4.739999771118164, start=4.139999866485596, word=\"I'm\"), TranscriptionWord(end=5.300000190734863, start=4.739999771118164, word='Vidushi'), TranscriptionWord(end=9.739999771118164, start=5.300000190734863, word='and'), TranscriptionWord(end=10.979999542236328, start=9.739999771118164, word='nice'), TranscriptionWord(end=11.359999656677246, start=10.979999542236328, word='to'), TranscriptionWord(end=11.359999656677246, start=11.359999656677246, word='meet'), TranscriptionWord(end=11.579999923706055, start=11.359999656677246, word='you')], task='transcribe')"
      ]
     },
     "execution_count": 34,
     "metadata": {},
     "output_type": "execute_result"
    }
   ],
   "source": [
    "transcript"
   ]
  },
  {
   "cell_type": "code",
   "execution_count": 2,
   "metadata": {},
   "outputs": [
    {
     "name": "stdout",
     "output_type": "stream",
     "text": [
      "../test.mp4\n"
     ]
    }
   ],
   "source": [
    "with open('../test.mp4', 'rb') as video:\n",
    "    print(video.name)"
   ]
  },
  {
   "cell_type": "code",
   "execution_count": 5,
   "metadata": {},
   "outputs": [
    {
     "ename": "ConnectTimeout",
     "evalue": "HTTPConnectionPool(host='10.180.246.149', port=5050): Max retries exceeded with url: /api/preprocess (Caused by ConnectTimeoutError(<urllib3.connection.HTTPConnection object at 0x10ee8d810>, 'Connection to 10.180.246.149 timed out. (connect timeout=None)'))",
     "output_type": "error",
     "traceback": [
      "\u001b[0;31m---------------------------------------------------------------------------\u001b[0m",
      "\u001b[0;31mTimeoutError\u001b[0m                              Traceback (most recent call last)",
      "File \u001b[0;32m~/anaconda3/envs/gencut/lib/python3.13/site-packages/urllib3/connection.py:198\u001b[0m, in \u001b[0;36mHTTPConnection._new_conn\u001b[0;34m(self)\u001b[0m\n\u001b[1;32m    197\u001b[0m \u001b[39mtry\u001b[39;00m:\n\u001b[0;32m--> 198\u001b[0m     sock \u001b[39m=\u001b[39m connection\u001b[39m.\u001b[39;49mcreate_connection(\n\u001b[1;32m    199\u001b[0m         (\u001b[39mself\u001b[39;49m\u001b[39m.\u001b[39;49m_dns_host, \u001b[39mself\u001b[39;49m\u001b[39m.\u001b[39;49mport),\n\u001b[1;32m    200\u001b[0m         \u001b[39mself\u001b[39;49m\u001b[39m.\u001b[39;49mtimeout,\n\u001b[1;32m    201\u001b[0m         source_address\u001b[39m=\u001b[39;49m\u001b[39mself\u001b[39;49m\u001b[39m.\u001b[39;49msource_address,\n\u001b[1;32m    202\u001b[0m         socket_options\u001b[39m=\u001b[39;49m\u001b[39mself\u001b[39;49m\u001b[39m.\u001b[39;49msocket_options,\n\u001b[1;32m    203\u001b[0m     )\n\u001b[1;32m    204\u001b[0m \u001b[39mexcept\u001b[39;00m socket\u001b[39m.\u001b[39mgaierror \u001b[39mas\u001b[39;00m e:\n",
      "File \u001b[0;32m~/anaconda3/envs/gencut/lib/python3.13/site-packages/urllib3/util/connection.py:85\u001b[0m, in \u001b[0;36mcreate_connection\u001b[0;34m(address, timeout, source_address, socket_options)\u001b[0m\n\u001b[1;32m     84\u001b[0m \u001b[39mtry\u001b[39;00m:\n\u001b[0;32m---> 85\u001b[0m     \u001b[39mraise\u001b[39;00m err\n\u001b[1;32m     86\u001b[0m \u001b[39mfinally\u001b[39;00m:\n\u001b[1;32m     87\u001b[0m     \u001b[39m# Break explicitly a reference cycle\u001b[39;00m\n",
      "File \u001b[0;32m~/anaconda3/envs/gencut/lib/python3.13/site-packages/urllib3/util/connection.py:73\u001b[0m, in \u001b[0;36mcreate_connection\u001b[0;34m(address, timeout, source_address, socket_options)\u001b[0m\n\u001b[1;32m     72\u001b[0m     sock\u001b[39m.\u001b[39mbind(source_address)\n\u001b[0;32m---> 73\u001b[0m sock\u001b[39m.\u001b[39;49mconnect(sa)\n\u001b[1;32m     74\u001b[0m \u001b[39m# Break explicitly a reference cycle\u001b[39;00m\n",
      "\u001b[0;31mTimeoutError\u001b[0m: [Errno 60] Operation timed out",
      "\nThe above exception was the direct cause of the following exception:\n",
      "\u001b[0;31mConnectTimeoutError\u001b[0m                       Traceback (most recent call last)",
      "File \u001b[0;32m~/anaconda3/envs/gencut/lib/python3.13/site-packages/urllib3/connectionpool.py:787\u001b[0m, in \u001b[0;36mHTTPConnectionPool.urlopen\u001b[0;34m(self, method, url, body, headers, retries, redirect, assert_same_host, timeout, pool_timeout, release_conn, chunked, body_pos, preload_content, decode_content, **response_kw)\u001b[0m\n\u001b[1;32m    786\u001b[0m \u001b[39m# Make the request on the HTTPConnection object\u001b[39;00m\n\u001b[0;32m--> 787\u001b[0m response \u001b[39m=\u001b[39m \u001b[39mself\u001b[39;49m\u001b[39m.\u001b[39;49m_make_request(\n\u001b[1;32m    788\u001b[0m     conn,\n\u001b[1;32m    789\u001b[0m     method,\n\u001b[1;32m    790\u001b[0m     url,\n\u001b[1;32m    791\u001b[0m     timeout\u001b[39m=\u001b[39;49mtimeout_obj,\n\u001b[1;32m    792\u001b[0m     body\u001b[39m=\u001b[39;49mbody,\n\u001b[1;32m    793\u001b[0m     headers\u001b[39m=\u001b[39;49mheaders,\n\u001b[1;32m    794\u001b[0m     chunked\u001b[39m=\u001b[39;49mchunked,\n\u001b[1;32m    795\u001b[0m     retries\u001b[39m=\u001b[39;49mretries,\n\u001b[1;32m    796\u001b[0m     response_conn\u001b[39m=\u001b[39;49mresponse_conn,\n\u001b[1;32m    797\u001b[0m     preload_content\u001b[39m=\u001b[39;49mpreload_content,\n\u001b[1;32m    798\u001b[0m     decode_content\u001b[39m=\u001b[39;49mdecode_content,\n\u001b[1;32m    799\u001b[0m     \u001b[39m*\u001b[39;49m\u001b[39m*\u001b[39;49mresponse_kw,\n\u001b[1;32m    800\u001b[0m )\n\u001b[1;32m    802\u001b[0m \u001b[39m# Everything went great!\u001b[39;00m\n",
      "File \u001b[0;32m~/anaconda3/envs/gencut/lib/python3.13/site-packages/urllib3/connectionpool.py:493\u001b[0m, in \u001b[0;36mHTTPConnectionPool._make_request\u001b[0;34m(self, conn, method, url, body, headers, retries, timeout, chunked, response_conn, preload_content, decode_content, enforce_content_length)\u001b[0m\n\u001b[1;32m    492\u001b[0m \u001b[39mtry\u001b[39;00m:\n\u001b[0;32m--> 493\u001b[0m     conn\u001b[39m.\u001b[39;49mrequest(\n\u001b[1;32m    494\u001b[0m         method,\n\u001b[1;32m    495\u001b[0m         url,\n\u001b[1;32m    496\u001b[0m         body\u001b[39m=\u001b[39;49mbody,\n\u001b[1;32m    497\u001b[0m         headers\u001b[39m=\u001b[39;49mheaders,\n\u001b[1;32m    498\u001b[0m         chunked\u001b[39m=\u001b[39;49mchunked,\n\u001b[1;32m    499\u001b[0m         preload_content\u001b[39m=\u001b[39;49mpreload_content,\n\u001b[1;32m    500\u001b[0m         decode_content\u001b[39m=\u001b[39;49mdecode_content,\n\u001b[1;32m    501\u001b[0m         enforce_content_length\u001b[39m=\u001b[39;49menforce_content_length,\n\u001b[1;32m    502\u001b[0m     )\n\u001b[1;32m    504\u001b[0m \u001b[39m# We are swallowing BrokenPipeError (errno.EPIPE) since the server is\u001b[39;00m\n\u001b[1;32m    505\u001b[0m \u001b[39m# legitimately able to close the connection after sending a valid response.\u001b[39;00m\n\u001b[1;32m    506\u001b[0m \u001b[39m# With this behaviour, the received response is still readable.\u001b[39;00m\n",
      "File \u001b[0;32m~/anaconda3/envs/gencut/lib/python3.13/site-packages/urllib3/connection.py:445\u001b[0m, in \u001b[0;36mHTTPConnection.request\u001b[0;34m(self, method, url, body, headers, chunked, preload_content, decode_content, enforce_content_length)\u001b[0m\n\u001b[1;32m    444\u001b[0m     \u001b[39mself\u001b[39m\u001b[39m.\u001b[39mputheader(header, value)\n\u001b[0;32m--> 445\u001b[0m \u001b[39mself\u001b[39;49m\u001b[39m.\u001b[39;49mendheaders()\n\u001b[1;32m    447\u001b[0m \u001b[39m# If we're given a body we start sending that in chunks.\u001b[39;00m\n",
      "File \u001b[0;32m~/anaconda3/envs/gencut/lib/python3.13/http/client.py:1333\u001b[0m, in \u001b[0;36mHTTPConnection.endheaders\u001b[0;34m(self, message_body, encode_chunked)\u001b[0m\n\u001b[1;32m   1332\u001b[0m     \u001b[39mraise\u001b[39;00m CannotSendHeader()\n\u001b[0;32m-> 1333\u001b[0m \u001b[39mself\u001b[39;49m\u001b[39m.\u001b[39;49m_send_output(message_body, encode_chunked\u001b[39m=\u001b[39;49mencode_chunked)\n",
      "File \u001b[0;32m~/anaconda3/envs/gencut/lib/python3.13/http/client.py:1093\u001b[0m, in \u001b[0;36mHTTPConnection._send_output\u001b[0;34m(self, message_body, encode_chunked)\u001b[0m\n\u001b[1;32m   1092\u001b[0m \u001b[39mdel\u001b[39;00m \u001b[39mself\u001b[39m\u001b[39m.\u001b[39m_buffer[:]\n\u001b[0;32m-> 1093\u001b[0m \u001b[39mself\u001b[39;49m\u001b[39m.\u001b[39;49msend(msg)\n\u001b[1;32m   1095\u001b[0m \u001b[39mif\u001b[39;00m message_body \u001b[39mis\u001b[39;00m \u001b[39mnot\u001b[39;00m \u001b[39mNone\u001b[39;00m:\n\u001b[1;32m   1096\u001b[0m \n\u001b[1;32m   1097\u001b[0m     \u001b[39m# create a consistent interface to message_body\u001b[39;00m\n",
      "File \u001b[0;32m~/anaconda3/envs/gencut/lib/python3.13/http/client.py:1037\u001b[0m, in \u001b[0;36mHTTPConnection.send\u001b[0;34m(self, data)\u001b[0m\n\u001b[1;32m   1036\u001b[0m \u001b[39mif\u001b[39;00m \u001b[39mself\u001b[39m\u001b[39m.\u001b[39mauto_open:\n\u001b[0;32m-> 1037\u001b[0m     \u001b[39mself\u001b[39;49m\u001b[39m.\u001b[39;49mconnect()\n\u001b[1;32m   1038\u001b[0m \u001b[39melse\u001b[39;00m:\n",
      "File \u001b[0;32m~/anaconda3/envs/gencut/lib/python3.13/site-packages/urllib3/connection.py:276\u001b[0m, in \u001b[0;36mHTTPConnection.connect\u001b[0;34m(self)\u001b[0m\n\u001b[1;32m    275\u001b[0m \u001b[39mdef\u001b[39;00m\u001b[39m \u001b[39m\u001b[39mconnect\u001b[39m(\u001b[39mself\u001b[39m) \u001b[39m-\u001b[39m\u001b[39m>\u001b[39m \u001b[39mNone\u001b[39;00m:\n\u001b[0;32m--> 276\u001b[0m     \u001b[39mself\u001b[39m\u001b[39m.\u001b[39msock \u001b[39m=\u001b[39m \u001b[39mself\u001b[39;49m\u001b[39m.\u001b[39;49m_new_conn()\n\u001b[1;32m    277\u001b[0m     \u001b[39mif\u001b[39;00m \u001b[39mself\u001b[39m\u001b[39m.\u001b[39m_tunnel_host:\n\u001b[1;32m    278\u001b[0m         \u001b[39m# If we're tunneling it means we're connected to our proxy.\u001b[39;00m\n",
      "File \u001b[0;32m~/anaconda3/envs/gencut/lib/python3.13/site-packages/urllib3/connection.py:207\u001b[0m, in \u001b[0;36mHTTPConnection._new_conn\u001b[0;34m(self)\u001b[0m\n\u001b[1;32m    206\u001b[0m \u001b[39mexcept\u001b[39;00m SocketTimeout \u001b[39mas\u001b[39;00m e:\n\u001b[0;32m--> 207\u001b[0m     \u001b[39mraise\u001b[39;00m ConnectTimeoutError(\n\u001b[1;32m    208\u001b[0m         \u001b[39mself\u001b[39m,\n\u001b[1;32m    209\u001b[0m         \u001b[39mf\u001b[39m\u001b[39m\"\u001b[39m\u001b[39mConnection to \u001b[39m\u001b[39m{\u001b[39;00m\u001b[39mself\u001b[39m\u001b[39m.\u001b[39mhost\u001b[39m}\u001b[39;00m\u001b[39m timed out. (connect timeout=\u001b[39m\u001b[39m{\u001b[39;00m\u001b[39mself\u001b[39m\u001b[39m.\u001b[39mtimeout\u001b[39m}\u001b[39;00m\u001b[39m)\u001b[39m\u001b[39m\"\u001b[39m,\n\u001b[1;32m    210\u001b[0m     ) \u001b[39mfrom\u001b[39;00m\u001b[39m \u001b[39m\u001b[39me\u001b[39;00m\n\u001b[1;32m    212\u001b[0m \u001b[39mexcept\u001b[39;00m \u001b[39mOSError\u001b[39;00m \u001b[39mas\u001b[39;00m e:\n",
      "\u001b[0;31mConnectTimeoutError\u001b[0m: (<urllib3.connection.HTTPConnection object at 0x10ee8d810>, 'Connection to 10.180.246.149 timed out. (connect timeout=None)')",
      "\nThe above exception was the direct cause of the following exception:\n",
      "\u001b[0;31mMaxRetryError\u001b[0m                             Traceback (most recent call last)",
      "File \u001b[0;32m~/anaconda3/envs/gencut/lib/python3.13/site-packages/requests/adapters.py:667\u001b[0m, in \u001b[0;36mHTTPAdapter.send\u001b[0;34m(self, request, stream, timeout, verify, cert, proxies)\u001b[0m\n\u001b[1;32m    666\u001b[0m \u001b[39mtry\u001b[39;00m:\n\u001b[0;32m--> 667\u001b[0m     resp \u001b[39m=\u001b[39m conn\u001b[39m.\u001b[39;49murlopen(\n\u001b[1;32m    668\u001b[0m         method\u001b[39m=\u001b[39;49mrequest\u001b[39m.\u001b[39;49mmethod,\n\u001b[1;32m    669\u001b[0m         url\u001b[39m=\u001b[39;49murl,\n\u001b[1;32m    670\u001b[0m         body\u001b[39m=\u001b[39;49mrequest\u001b[39m.\u001b[39;49mbody,\n\u001b[1;32m    671\u001b[0m         headers\u001b[39m=\u001b[39;49mrequest\u001b[39m.\u001b[39;49mheaders,\n\u001b[1;32m    672\u001b[0m         redirect\u001b[39m=\u001b[39;49m\u001b[39mFalse\u001b[39;49;00m,\n\u001b[1;32m    673\u001b[0m         assert_same_host\u001b[39m=\u001b[39;49m\u001b[39mFalse\u001b[39;49;00m,\n\u001b[1;32m    674\u001b[0m         preload_content\u001b[39m=\u001b[39;49m\u001b[39mFalse\u001b[39;49;00m,\n\u001b[1;32m    675\u001b[0m         decode_content\u001b[39m=\u001b[39;49m\u001b[39mFalse\u001b[39;49;00m,\n\u001b[1;32m    676\u001b[0m         retries\u001b[39m=\u001b[39;49m\u001b[39mself\u001b[39;49m\u001b[39m.\u001b[39;49mmax_retries,\n\u001b[1;32m    677\u001b[0m         timeout\u001b[39m=\u001b[39;49mtimeout,\n\u001b[1;32m    678\u001b[0m         chunked\u001b[39m=\u001b[39;49mchunked,\n\u001b[1;32m    679\u001b[0m     )\n\u001b[1;32m    681\u001b[0m \u001b[39mexcept\u001b[39;00m (ProtocolError, \u001b[39mOSError\u001b[39;00m) \u001b[39mas\u001b[39;00m err:\n",
      "File \u001b[0;32m~/anaconda3/envs/gencut/lib/python3.13/site-packages/urllib3/connectionpool.py:841\u001b[0m, in \u001b[0;36mHTTPConnectionPool.urlopen\u001b[0;34m(self, method, url, body, headers, retries, redirect, assert_same_host, timeout, pool_timeout, release_conn, chunked, body_pos, preload_content, decode_content, **response_kw)\u001b[0m\n\u001b[1;32m    839\u001b[0m     new_e \u001b[39m=\u001b[39m ProtocolError(\u001b[39m\"\u001b[39m\u001b[39mConnection aborted.\u001b[39m\u001b[39m\"\u001b[39m, new_e)\n\u001b[0;32m--> 841\u001b[0m retries \u001b[39m=\u001b[39m retries\u001b[39m.\u001b[39;49mincrement(\n\u001b[1;32m    842\u001b[0m     method, url, error\u001b[39m=\u001b[39;49mnew_e, _pool\u001b[39m=\u001b[39;49m\u001b[39mself\u001b[39;49m, _stacktrace\u001b[39m=\u001b[39;49msys\u001b[39m.\u001b[39;49mexc_info()[\u001b[39m2\u001b[39;49m]\n\u001b[1;32m    843\u001b[0m )\n\u001b[1;32m    844\u001b[0m retries\u001b[39m.\u001b[39msleep()\n",
      "File \u001b[0;32m~/anaconda3/envs/gencut/lib/python3.13/site-packages/urllib3/util/retry.py:519\u001b[0m, in \u001b[0;36mRetry.increment\u001b[0;34m(self, method, url, response, error, _pool, _stacktrace)\u001b[0m\n\u001b[1;32m    518\u001b[0m     reason \u001b[39m=\u001b[39m error \u001b[39mor\u001b[39;00m ResponseError(cause)\n\u001b[0;32m--> 519\u001b[0m     \u001b[39mraise\u001b[39;00m MaxRetryError(_pool, url, reason) \u001b[39mfrom\u001b[39;00m\u001b[39m \u001b[39m\u001b[39mreason\u001b[39;00m  \u001b[39m# type: ignore[arg-type]\u001b[39;00m\n\u001b[1;32m    521\u001b[0m log\u001b[39m.\u001b[39mdebug(\u001b[39m\"\u001b[39m\u001b[39mIncremented Retry for (url=\u001b[39m\u001b[39m'\u001b[39m\u001b[39m%s\u001b[39;00m\u001b[39m'\u001b[39m\u001b[39m): \u001b[39m\u001b[39m%r\u001b[39;00m\u001b[39m\"\u001b[39m, url, new_retry)\n",
      "\u001b[0;31mMaxRetryError\u001b[0m: HTTPConnectionPool(host='10.180.246.149', port=5050): Max retries exceeded with url: /api/preprocess (Caused by ConnectTimeoutError(<urllib3.connection.HTTPConnection object at 0x10ee8d810>, 'Connection to 10.180.246.149 timed out. (connect timeout=None)'))",
      "\nDuring handling of the above exception, another exception occurred:\n",
      "\u001b[0;31mConnectTimeout\u001b[0m                            Traceback (most recent call last)",
      "Cell \u001b[0;32mIn[5], line 7\u001b[0m\n\u001b[1;32m      4\u001b[0m video_path \u001b[39m=\u001b[39m \u001b[39m\"\u001b[39m\u001b[39m../test.mp4\u001b[39m\u001b[39m\"\u001b[39m\n\u001b[1;32m      6\u001b[0m \u001b[39mwith\u001b[39;00m \u001b[39mopen\u001b[39m(\u001b[39m'\u001b[39m\u001b[39m../test.mp4\u001b[39m\u001b[39m'\u001b[39m, \u001b[39m'\u001b[39m\u001b[39mrb\u001b[39m\u001b[39m'\u001b[39m) \u001b[39mas\u001b[39;00m video:\n\u001b[0;32m----> 7\u001b[0m     response \u001b[39m=\u001b[39m requests\u001b[39m.\u001b[39;49mpost(url, files\u001b[39m=\u001b[39;49m{\u001b[39m'\u001b[39;49m\u001b[39mvideo\u001b[39;49m\u001b[39m'\u001b[39;49m: video}, data\u001b[39m=\u001b[39;49m{\u001b[39m'\u001b[39;49m\u001b[39mduration\u001b[39;49m\u001b[39m'\u001b[39;49m: \u001b[39m'\u001b[39;49m\u001b[39m11\u001b[39;49m\u001b[39m'\u001b[39;49m})\n\u001b[1;32m      8\u001b[0m     \u001b[39mprint\u001b[39m(response, response\u001b[39m.\u001b[39mcontent)\n\u001b[1;32m      9\u001b[0m     \u001b[39mprint\u001b[39m(\u001b[39m'\u001b[39m\u001b[39m---\u001b[39m\u001b[39m'\u001b[39m)\n",
      "File \u001b[0;32m~/anaconda3/envs/gencut/lib/python3.13/site-packages/requests/api.py:115\u001b[0m, in \u001b[0;36mpost\u001b[0;34m(url, data, json, **kwargs)\u001b[0m\n\u001b[1;32m    103\u001b[0m \u001b[39mdef\u001b[39;00m\u001b[39m \u001b[39m\u001b[39mpost\u001b[39m(url, data\u001b[39m=\u001b[39m\u001b[39mNone\u001b[39;00m, json\u001b[39m=\u001b[39m\u001b[39mNone\u001b[39;00m, \u001b[39m*\u001b[39m\u001b[39m*\u001b[39mkwargs):\n\u001b[1;32m    104\u001b[0m \u001b[39m    \u001b[39m\u001b[39mr\u001b[39m\u001b[39m\"\"\"Sends a POST request.\u001b[39;00m\n\u001b[1;32m    105\u001b[0m \n\u001b[1;32m    106\u001b[0m \u001b[39m    :param url: URL for the new :class:`Request` object.\u001b[39;00m\n\u001b[0;32m   (...)\u001b[0m\n\u001b[1;32m    112\u001b[0m \u001b[39m    :rtype: requests.Response\u001b[39;00m\n\u001b[1;32m    113\u001b[0m \u001b[39m    \"\"\"\u001b[39;00m\n\u001b[0;32m--> 115\u001b[0m     \u001b[39mreturn\u001b[39;00m request(\u001b[39m\"\u001b[39;49m\u001b[39mpost\u001b[39;49m\u001b[39m\"\u001b[39;49m, url, data\u001b[39m=\u001b[39;49mdata, json\u001b[39m=\u001b[39;49mjson, \u001b[39m*\u001b[39;49m\u001b[39m*\u001b[39;49mkwargs)\n",
      "File \u001b[0;32m~/anaconda3/envs/gencut/lib/python3.13/site-packages/requests/api.py:59\u001b[0m, in \u001b[0;36mrequest\u001b[0;34m(method, url, **kwargs)\u001b[0m\n\u001b[1;32m     55\u001b[0m \u001b[39m# By using the 'with' statement we are sure the session is closed, thus we\u001b[39;00m\n\u001b[1;32m     56\u001b[0m \u001b[39m# avoid leaving sockets open which can trigger a ResourceWarning in some\u001b[39;00m\n\u001b[1;32m     57\u001b[0m \u001b[39m# cases, and look like a memory leak in others.\u001b[39;00m\n\u001b[1;32m     58\u001b[0m \u001b[39mwith\u001b[39;00m sessions\u001b[39m.\u001b[39mSession() \u001b[39mas\u001b[39;00m session:\n\u001b[0;32m---> 59\u001b[0m     \u001b[39mreturn\u001b[39;00m session\u001b[39m.\u001b[39;49mrequest(method\u001b[39m=\u001b[39;49mmethod, url\u001b[39m=\u001b[39;49murl, \u001b[39m*\u001b[39;49m\u001b[39m*\u001b[39;49mkwargs)\n",
      "File \u001b[0;32m~/anaconda3/envs/gencut/lib/python3.13/site-packages/requests/sessions.py:589\u001b[0m, in \u001b[0;36mSession.request\u001b[0;34m(self, method, url, params, data, headers, cookies, files, auth, timeout, allow_redirects, proxies, hooks, stream, verify, cert, json)\u001b[0m\n\u001b[1;32m    584\u001b[0m send_kwargs \u001b[39m=\u001b[39m {\n\u001b[1;32m    585\u001b[0m     \u001b[39m\"\u001b[39m\u001b[39mtimeout\u001b[39m\u001b[39m\"\u001b[39m: timeout,\n\u001b[1;32m    586\u001b[0m     \u001b[39m\"\u001b[39m\u001b[39mallow_redirects\u001b[39m\u001b[39m\"\u001b[39m: allow_redirects,\n\u001b[1;32m    587\u001b[0m }\n\u001b[1;32m    588\u001b[0m send_kwargs\u001b[39m.\u001b[39mupdate(settings)\n\u001b[0;32m--> 589\u001b[0m resp \u001b[39m=\u001b[39m \u001b[39mself\u001b[39;49m\u001b[39m.\u001b[39;49msend(prep, \u001b[39m*\u001b[39;49m\u001b[39m*\u001b[39;49msend_kwargs)\n\u001b[1;32m    591\u001b[0m \u001b[39mreturn\u001b[39;00m resp\n",
      "File \u001b[0;32m~/anaconda3/envs/gencut/lib/python3.13/site-packages/requests/sessions.py:703\u001b[0m, in \u001b[0;36mSession.send\u001b[0;34m(self, request, **kwargs)\u001b[0m\n\u001b[1;32m    700\u001b[0m start \u001b[39m=\u001b[39m preferred_clock()\n\u001b[1;32m    702\u001b[0m \u001b[39m# Send the request\u001b[39;00m\n\u001b[0;32m--> 703\u001b[0m r \u001b[39m=\u001b[39m adapter\u001b[39m.\u001b[39;49msend(request, \u001b[39m*\u001b[39;49m\u001b[39m*\u001b[39;49mkwargs)\n\u001b[1;32m    705\u001b[0m \u001b[39m# Total elapsed time of the request (approximately)\u001b[39;00m\n\u001b[1;32m    706\u001b[0m elapsed \u001b[39m=\u001b[39m preferred_clock() \u001b[39m-\u001b[39m start\n",
      "File \u001b[0;32m~/anaconda3/envs/gencut/lib/python3.13/site-packages/requests/adapters.py:688\u001b[0m, in \u001b[0;36mHTTPAdapter.send\u001b[0;34m(self, request, stream, timeout, verify, cert, proxies)\u001b[0m\n\u001b[1;32m    685\u001b[0m \u001b[39mif\u001b[39;00m \u001b[39misinstance\u001b[39m(e\u001b[39m.\u001b[39mreason, ConnectTimeoutError):\n\u001b[1;32m    686\u001b[0m     \u001b[39m# TODO: Remove this in 3.0.0: see #2811\u001b[39;00m\n\u001b[1;32m    687\u001b[0m     \u001b[39mif\u001b[39;00m \u001b[39mnot\u001b[39;00m \u001b[39misinstance\u001b[39m(e\u001b[39m.\u001b[39mreason, NewConnectionError):\n\u001b[0;32m--> 688\u001b[0m         \u001b[39mraise\u001b[39;00m ConnectTimeout(e, request\u001b[39m=\u001b[39mrequest)\n\u001b[1;32m    690\u001b[0m \u001b[39mif\u001b[39;00m \u001b[39misinstance\u001b[39m(e\u001b[39m.\u001b[39mreason, ResponseError):\n\u001b[1;32m    691\u001b[0m     \u001b[39mraise\u001b[39;00m RetryError(e, request\u001b[39m=\u001b[39mrequest)\n",
      "\u001b[0;31mConnectTimeout\u001b[0m: HTTPConnectionPool(host='10.180.246.149', port=5050): Max retries exceeded with url: /api/preprocess (Caused by ConnectTimeoutError(<urllib3.connection.HTTPConnection object at 0x10ee8d810>, 'Connection to 10.180.246.149 timed out. (connect timeout=None)'))"
     ]
    }
   ],
   "source": [
    "import requests\n",
    "\n",
    "url = \"http://10.180.246.149:5050/api/preprocess\"\n",
    "video_path = \"../test.mp4\"\n",
    "\n",
    "with open('../test.mp4', 'rb') as video:\n",
    "    response = requests.post(url, files={'video': video}, data={'duration': '11'})\n",
    "    print(response, response.content)\n",
    "    print('---')\n",
    "    print(response.text)"
   ]
  },
  {
   "cell_type": "code",
   "execution_count": 20,
   "metadata": {},
   "outputs": [
    {
     "data": {
      "text/plain": [
       "True"
      ]
     },
     "execution_count": 20,
     "metadata": {},
     "output_type": "execute_result"
    }
   ],
   "source": [
    "from dotenv import load_dotenv\n",
    "load_dotenv()"
   ]
  },
  {
   "cell_type": "code",
   "execution_count": 22,
   "metadata": {},
   "outputs": [],
   "source": [
    "import os\n",
    "client = OpenAI(api_key=os.getenv('OPENAI_API_KEY'))"
   ]
  },
  {
   "cell_type": "code",
   "execution_count": 27,
   "metadata": {},
   "outputs": [],
   "source": [
    "\n",
    "messages = [\n",
    "    {\n",
    "        \"role\": \"system\",\n",
    "        \"content\": \"You are a helpful assistant for the blind. describe the frame as specificely as you can. be specific in terms of the colors in the frame, what might be happening to the best of your knowledge. be as specific as you can.\"\n",
    "    },\n",
    "    {\"role\": \"user\", \"content\": [\n",
    "            {\"type\": \"text\", \"text\": f\"Here is a frame from a video. Describe it vividly.\"},\n",
    "            {\n",
    "                \"type\": \"image_url\",\n",
    "                \"image_url\": {\n",
    "                    \"url\": f\"data:image/jpeg;base64,{base64_frame}\"\n",
    "                }\n",
    "            }\n",
    "        ]}\n",
    "\n",
    "]\n",
    "\n",
    "response = client.chat.completions.create(\n",
    "    model=\"gpt-4o-mini\",\n",
    "    messages=messages,\n",
    "    max_tokens=500\n",
    ")\n"
   ]
  },
  {
   "cell_type": "code",
   "execution_count": 25,
   "metadata": {},
   "outputs": [],
   "source": [
    "import cv2\n",
    "import base64\n",
    "\n",
    "cap = cv2.VideoCapture('../test.mp4')\n",
    "fps = cap.get(cv2.CAP_PROP_FPS)\n",
    "frames = [] # Stores GPT generated image description\n",
    "frame_count = 0\n",
    "\n",
    "attrs = [] # Attributes like brightness, \n",
    "\n",
    "while cap.isOpened():\n",
    "    ret, frame = cap.read()\n",
    "    if not ret:\n",
    "        break\n",
    "        \n",
    "    if frame_count % int(fps) == 0:\n",
    "        # Convert frame to JPEG\n",
    "        _, buffer = cv2.imencode('.jpg', frame)\n",
    "        base64_frame = base64.b64encode(buffer).decode('utf-8')\n",
    "        break"
   ]
  },
  {
   "cell_type": "code",
   "execution_count": 26,
   "metadata": {},
   "outputs": [
    {
     "data": {
      "text/plain": [
       "'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'"
      ]
     },
     "execution_count": 26,
     "metadata": {},
     "output_type": "execute_result"
    }
   ],
   "source": [
    "base64_frame"
   ]
  },
  {
   "cell_type": "code",
   "execution_count": 32,
   "metadata": {},
   "outputs": [
    {
     "data": {
      "text/plain": [
       "\"In this frame, the viewpoint appears to be tilted or angled, capturing a portion of a ceiling along with part of a wall. \\n\\n1. **Ceiling**: The ceiling features a grid pattern made of light-colored tiles. It has a smooth finish with a soft white color that gives a clean and modern look. Illuminated strips along the edge suggest ambient lighting, casting a subtle glow that brightens the area.\\n\\n2. **Wall**: To the right, there's part of a wall that may have a textured or patterned surface, possibly in a light shade or beige. The texture appears somewhat intricate, providing visual interest.\\n\\n3. **Lighting**: The lighting is soft and even, creating a calm atmosphere, with shadows that hint at the curves and angles of the wall and ceiling.\\n\\nOverall, the frame suggests a typical indoor environment, likely within a building such as an office or a conference room. There’s an emphasis on modern design elements, creating a functional yet inviting space.\""
      ]
     },
     "execution_count": 32,
     "metadata": {},
     "output_type": "execute_result"
    }
   ],
   "source": [
    "response.choices[0].message.content"
   ]
  },
  {
   "cell_type": "code",
   "execution_count": 37,
   "metadata": {},
   "outputs": [
    {
     "name": "stdout",
     "output_type": "stream",
     "text": [
      "moviepy: 2.1.1\n"
     ]
    }
   ],
   "source": [
    "print('moviepy:', moviepy.__version__)"
   ]
  },
  {
   "cell_type": "code",
   "execution_count": 36,
   "metadata": {},
   "outputs": [
    {
     "ename": "ModuleNotFoundError",
     "evalue": "No module named 'moviepy.editor'",
     "output_type": "error",
     "traceback": [
      "\u001b[0;31m---------------------------------------------------------------------------\u001b[0m",
      "\u001b[0;31mModuleNotFoundError\u001b[0m                       Traceback (most recent call last)",
      "Cell \u001b[0;32mIn[36], line 2\u001b[0m\n\u001b[1;32m      1\u001b[0m \u001b[39mimport\u001b[39;00m\u001b[39m \u001b[39m\u001b[39mos\u001b[39;00m\n\u001b[0;32m----> 2\u001b[0m \u001b[39mfrom\u001b[39;00m\u001b[39m \u001b[39m\u001b[39mmoviepy\u001b[39;00m\u001b[39m.\u001b[39;00m\u001b[39meditor\u001b[39;00m\u001b[39m \u001b[39m\u001b[39mimport\u001b[39;00m \u001b[39m*\u001b[39m\n\u001b[1;32m      4\u001b[0m \u001b[39m# --- info ---\u001b[39;00m\n\u001b[1;32m      6\u001b[0m \u001b[39mimport\u001b[39;00m\u001b[39m \u001b[39m\u001b[39mmoviepy\u001b[39;00m\n",
      "\u001b[0;31mModuleNotFoundError\u001b[0m: No module named 'moviepy.editor'"
     ]
    }
   ],
   "source": [
    "import os\n",
    "from moviepy.editor import *\n",
    "\n",
    "# --- info ---\n",
    "\n",
    "import moviepy\n",
    "print('moviepy:', moviepy.__version__)\n",
    "print('ffmpeg :', moviepy.config.FFMPEG_BINARY)\n",
    "\n",
    "# --- main ---\n",
    "\n",
    "input_dir  = r'C:\\Users\\jack_l\\Downloads\\makeAVideo\\stock'\n",
    "output_dir = r'C:\\Users\\jack_l\\Downloads\\makeAVideo'\n",
    "\n",
    "#print('chdir:', input_dir)\n",
    "#os.chdir(input_dir)\n",
    "\n",
    "root, dirs, files = next(os.walk(input_dir), (None, None, []))\n",
    "#print(files)\n",
    "\n",
    "if files:\n",
    "    #input_path  = os.path.join(root, files[0])\n",
    "    input_path  = os.path.join(input_dir, files[0])\n",
    "    output_path = os.path.join(output_dir, 'theVideo.mp4')\n",
    "    \n",
    "    print('input :', input_path)\n",
    "    print('output:', output_path)\n",
    "\n",
    "    stock_file = VideoFileClip(input_path, target_resolution=(1080, 1920), audio=False)\n",
    "    stock_file = stock_file.loop(duration=300)\n",
    "    stock_file = stock_file.set_fps(30)\n",
    "\n",
    "    stock_file.write_videofile(output_path)\n"
   ]
  },
  {
   "cell_type": "code",
   "execution_count": 41,
   "metadata": {},
   "outputs": [
    {
     "name": "stdout",
     "output_type": "stream",
     "text": [
      "<Response [200]> b'{\\n  \"image_attr\": \"\", \\n  \"image_description\": \"\", \\n  \"transcription\": [\\n    \"hello\", \\n    \"hello yeah\", \\n    \"yeah\", \\n    \"yeah\", \\n    \"yeah I\\'m Vidushi\", \\n    \"Vidushi and\", \\n    \"and\", \\n    \"and\", \\n    \"and\", \\n    \"and nice\", \\n    \"nice to\", \\n    \"to meet you\"\\n  ]\\n}\\n'\n",
      "---\n",
      "{\n",
      "  \"image_attr\": \"\", \n",
      "  \"image_description\": \"\", \n",
      "  \"transcription\": [\n",
      "    \"hello\", \n",
      "    \"hello yeah\", \n",
      "    \"yeah\", \n",
      "    \"yeah\", \n",
      "    \"yeah I'm Vidushi\", \n",
      "    \"Vidushi and\", \n",
      "    \"and\", \n",
      "    \"and\", \n",
      "    \"and\", \n",
      "    \"and nice\", \n",
      "    \"nice to\", \n",
      "    \"to meet you\"\n",
      "  ]\n",
      "}\n",
      "\n"
     ]
    }
   ],
   "source": [
    "import requests\n",
    "\n",
    "url = \"http://10.91.54.11:5050/api/preprocess\"\n",
    "\n",
    "with open('../test.mp4', 'rb') as video:\n",
    "    response = requests.post(url, files={'video': video}, data={'duration': '11'})\n",
    "    print(response, response.content)\n",
    "    print('---')\n",
    "    print(response.text)"
   ]
  },
  {
   "cell_type": "code",
   "execution_count": null,
   "metadata": {},
   "outputs": [],
   "source": []
  }
 ],
 "metadata": {
  "kernelspec": {
   "display_name": "gencut",
   "language": "python",
   "name": "python3"
  },
  "language_info": {
   "codemirror_mode": {
    "name": "ipython",
    "version": 3
   },
   "file_extension": ".py",
   "mimetype": "text/x-python",
   "name": "python",
   "nbconvert_exporter": "python",
   "pygments_lexer": "ipython3",
   "version": "3.13.2"
  },
  "orig_nbformat": 4
 },
 "nbformat": 4,
 "nbformat_minor": 2
}
